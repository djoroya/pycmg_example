{
 "cells": [
  {
   "cell_type": "code",
   "execution_count": 7,
   "metadata": {},
   "outputs": [
    {
     "name": "stdout",
     "output_type": "stream",
     "text": [
      "The zip file named 'main.zip' already exists in the download folder. Skipping download.\n"
     ]
    }
   ],
   "source": [
    "# dowload \n",
    "# https://github.com/jtimo/pycmg/archive/refs/heads/main.zip\n",
    "\n",
    "import requests\n",
    "import zipfile\n",
    "import os\n",
    "import shutil\n",
    "join = os.path.join\n",
    "main_path = os.getcwd()\n",
    "download_folder = join(main_path, \"src\",\"downloads\")\n",
    "dependencies_folder = join(main_path, \"src\",\"dependencies\")\n",
    "\n",
    "\n",
    "zip_name = join(download_folder, \"main.zip\")\n",
    "pymcg_folder = join(dependencies_folder, \"pycmg\")\n",
    "if not os.path.exists(zip_name):\n",
    "    url = \"https://github.com/jtimo/pycmg/archive/refs/heads/main.zip\"\n",
    "    # donwload folder \n",
    "\n",
    "    r = requests.get(url)\n",
    "\n",
    "    with open(join(download_folder, \"main.zip\"), \"wb\") as f:\n",
    "        f.write(r.content)\n",
    "else:\n",
    "    print(\"The zip file named 'main.zip' already exists in the download folder. Skipping download.\")\n",
    "\n",
    "# remove folder if exists\n",
    "if os.path.exists(pymcg_folder):\n",
    "    shutil.rmtree(pymcg_folder)\n",
    "# =====================\n",
    "# unzip folder\n",
    "with zipfile.ZipFile(join(download_folder, \"main.zip\"), 'r') as zip_ref:\n",
    "    zip_ref.extractall(download_folder)\n",
    "\n",
    "# move folder to dependencies\n",
    "os.rename(join(download_folder, \"pycmg-main\"), join(dependencies_folder, \"pycmg\"))"
   ]
  },
  {
   "cell_type": "code",
   "execution_count": 8,
   "metadata": {},
   "outputs": [
    {
     "name": "stdout",
     "output_type": "stream",
     "text": [
      "c:\\Users\\Jesus\\Documents\\GitHub\\pycmg_example\\.conda\\Lib\\site-packages\n"
     ]
    }
   ],
   "source": [
    "import sys,os\n",
    "\n",
    "sys.path\n",
    "# find site-packages directory\n",
    "for path in sys.path:\n",
    "    if 'site-packages' in path:\n",
    "        print(path)\n",
    "        break\n",
    "\n",
    "conda = path + '\\conda.pth'\n",
    "\n",
    "src = join(dependencies_folder, \"pycmg\")\n",
    "src_full = os.path.abspath(src)\n",
    "lines = [src_full + '\\n']\n",
    "with open(conda, 'w') as f:\n",
    "    f.writelines(lines)"
   ]
  },
  {
   "cell_type": "code",
   "execution_count": 9,
   "metadata": {},
   "outputs": [],
   "source": [
    "# \"from inclusion import Polyhedron\" -> \"from pycmg.inclusion import Polyhedron\"\n",
    "# src\\dependencies\\pycmg\\pycmg\\configuration.py\n",
    "\n",
    "file = join(dependencies_folder, \"pycmg\", \"pycmg\", \"configuration.py\")\n",
    "with open(file, 'r') as f:\n",
    "    lines = f.readlines()\n",
    "\n",
    "with open(file, 'w') as f:\n",
    "    for line in lines:\n",
    "        if \"from inclusion import Polyhedron\" in line:\n",
    "            f.write(\"from pycmg.inclusion import Polyhedron\\n\")\n",
    "        else:\n",
    "            f.write(line)"
   ]
  },
  {
   "cell_type": "code",
   "execution_count": null,
   "metadata": {},
   "outputs": [],
   "source": []
  }
 ],
 "metadata": {
  "kernelspec": {
   "display_name": "Python 3",
   "language": "python",
   "name": "python3"
  },
  "language_info": {
   "codemirror_mode": {
    "name": "ipython",
    "version": 3
   },
   "file_extension": ".py",
   "mimetype": "text/x-python",
   "name": "python",
   "nbconvert_exporter": "python",
   "pygments_lexer": "ipython3",
   "version": "3.11.9"
  }
 },
 "nbformat": 4,
 "nbformat_minor": 2
}
