{
 "cells": [
  {
   "cell_type": "code",
   "execution_count": 23,
   "metadata": {},
   "outputs": [],
   "source": [
    "# \n",
    "import gmsh \n",
    "\n",
    "gmsh.initialize()\n",
    "\n",
    "# use stl file to create a mesh\n",
    "gmsh.merge('mesostructure_anti.stl')\n",
    "\n",
    "gmsh.fltk.run()\n",
    "\n",
    "gmsh.model.occ.synchronize()\n",
    "\n",
    "xmin, ymin, zmin, xmax, ymax, zmax = gmsh.model.getBoundingBox(-1, -1)\n",
    "\n",
    "gmsh.model.add(\"BoundingCube\")\n",
    "# Define the cube using the bounding box dimensions\n",
    "lcar = 0.1  # Characteristic length of the cube mesh\n",
    "cube = gmsh.model.occ.addBox(xmin, \n",
    "                             ymin, \n",
    "                             zmin, \n",
    "                             xmax - xmin,\n",
    "                             ymax - ymin, \n",
    "                             zmax - zmin)\n",
    "\n",
    "gmsh.model.geo.synchronize()\n",
    "\n",
    "gmsh.fltk.run()\n",
    "\n",
    "gmsh.model.mesh.optimize('Netgen')\n",
    "\n",
    "gmsh.model.mesh.generate(3)\n",
    "\n",
    "# save mesh\n",
    "gmsh.write('mesostructure1.inp')"
   ]
  },
  {
   "cell_type": "code",
   "execution_count": 30,
   "metadata": {},
   "outputs": [],
   "source": [
    "import gmsh\n",
    "\n",
    "# Inicializar Gmsh\n",
    "gmsh.initialize()\n",
    "\n",
    "# Cargar el archivo STL\n",
    "gmsh.merge('mesostructure_anti.stl')\n",
    "meso = gmsh.model.getEntities(2)\n",
    "gmsh.model.occ.synchronize()\n",
    "\n",
    "\n",
    "# Obtener las dimensiones del STL\n",
    "xmin, ymin, zmin, xmax, ymax, zmax = gmsh.model.getBoundingBox(-1, -1)\n",
    "\n",
    "# Crear un nuevo modelo para el cubo\n",
    "gmsh.model.add(\"BoundingCube\")\n",
    "cube = gmsh.model.occ.addBox(xmin, ymin, zmin, xmax - xmin, ymax - ymin, zmax - zmin)\n",
    "\n",
    "\n",
    "gmsh.fltk.run()\n",
    "\n",
    "# Definir el cubo utilizando las dimensiones del STL\n",
    "\n",
    "gmsh.merge('mesostructure_anti.stl')\n",
    "\n",
    "# Sincronizar para crear el cubo en el modelo\n",
    "gmsh.model.occ.synchronize()\n",
    "gmsh.fltk.run()\n"
   ]
  },
  {
   "cell_type": "code",
   "execution_count": null,
   "metadata": {},
   "outputs": [],
   "source": []
  }
 ],
 "metadata": {
  "kernelspec": {
   "display_name": "Python 3",
   "language": "python",
   "name": "python3"
  },
  "language_info": {
   "codemirror_mode": {
    "name": "ipython",
    "version": 3
   },
   "file_extension": ".py",
   "mimetype": "text/x-python",
   "name": "python",
   "nbconvert_exporter": "python",
   "pygments_lexer": "ipython3",
   "version": "3.11.9"
  }
 },
 "nbformat": 4,
 "nbformat_minor": 2
}
