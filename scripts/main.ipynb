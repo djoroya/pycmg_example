{
 "cells": [
  {
   "cell_type": "code",
   "execution_count": 1,
   "metadata": {},
   "outputs": [],
   "source": [
    "import sys"
   ]
  },
  {
   "cell_type": "code",
   "execution_count": 2,
   "metadata": {},
   "outputs": [],
   "source": [
    "from pycmg.configuration import Configuration\n",
    "from pycmg.visualization import export_data, visualize_sections\n",
    "from pycmg.generate_mesostructure import Mesostructure\n",
    "import numpy as np\n",
    "import os\n",
    "join = os.path.join\n"
   ]
  },
  {
   "cell_type": "code",
   "execution_count": 3,
   "metadata": {},
   "outputs": [],
   "source": [
    "# take "
   ]
  },
  {
   "cell_type": "code",
   "execution_count": 4,
   "metadata": {},
   "outputs": [],
   "source": [
    "my_configuration = Configuration(vf_max_assembly=0.3, \n",
    "                                 average_shape=[1, 0.5, 0.5])\n",
    "\n",
    "AB8_file = join(\"..\",\"src\",\n",
    "                \"dependencies\",\n",
    "                \"pycmg\",\n",
    "                \"examples\",\n",
    "                \"AB8_CMG_full.csv\")\n",
    "\n",
    "my_configuration.load_inclusions(conf_csv=AB8_file)\n",
    "my_mesostructure = Mesostructure(mesostructure_size=[20, 20, 20], \n",
    "                                 resolution=[0.125, 0.125, 0.125])\n",
    "my_mesostructure.add_configuration(my_configuration)\n",
    "my_virtual_mesostructure = my_mesostructure.assemble_sra()\n",
    "np.save('mesostructure.npy', my_virtual_mesostructure)    # .npy extension is added if not given\n",
    "visualize_sections(my_virtual_mesostructure, 3)\n",
    "export_data(my_virtual_mesostructure, 'vtk', 'mesostructure.vti')"
   ]
  },
  {
   "cell_type": "code",
   "execution_count": null,
   "metadata": {},
   "outputs": [],
   "source": [
    "\n",
    "import numpy as np\n",
    "from skimage import measure\n",
    "import trimesh\n",
    "\n",
    "\n",
    "def frommatrix2stl(matrix, filename,target_faces=None):\n",
    "\n",
    "    matrix = matrix.copy()\n",
    "\n",
    "    matrix = np.pad(matrix, 1, mode='constant', constant_values=0)\n",
    "\n",
    "    matrix[0, :, :] = 1\n",
    "    matrix[-1, :, :] = 1\n",
    "    matrix[:, 0, :] = 1\n",
    "    matrix[:, -1, :] = 1\n",
    "    matrix[:, :, 0] = 1\n",
    "    matrix[:, :, -1] = 1\n",
    "\n",
    "    verts, faces, normals, values = measure.marching_cubes(matrix, level=0.5)\n",
    "    mesh = trimesh.Trimesh(vertices=verts, faces=faces)\n",
    "\n",
    "    # Simplificación de la malla si se especifica un número objetivo de caras\n",
    "    if target_faces:\n",
    "        mesh = mesh.simplify_quadric_decimation(target_faces)\n",
    "\n",
    "    mesh.export(filename)"
   ]
  },
  {
   "cell_type": "code",
   "execution_count": null,
   "metadata": {},
   "outputs": [],
   "source": [
    "import shutil,os"
   ]
  },
  {
   "cell_type": "code",
   "execution_count": null,
   "metadata": {},
   "outputs": [],
   "source": [
    "#rm *stl\n",
    "try:\n",
    "    os.remove('mesostructure.stl')\n",
    "    os.remove('mesostructure_anti.stl')\n",
    "except:\n",
    "    pass"
   ]
  },
  {
   "cell_type": "code",
   "execution_count": null,
   "metadata": {},
   "outputs": [
    {
     "name": "stdout",
     "output_type": "stream",
     "text": [
      "Jupyter environment detected. Enabling Open3D WebVisualizer.\n",
      "[Open3D INFO] WebRTC GUI backend enabled.\n",
      "[Open3D INFO] WebRTCWindowSystem: HTTP handshake server disabled.\n"
     ]
    }
   ],
   "source": [
    "\n",
    "\n",
    "my_virtual_mesostructure_anti = 1 - my_virtual_mesostructure\n",
    "\n",
    "\n",
    "frommatrix2stl(my_virtual_mesostructure_anti, 'mesostructure_anti.stl', target_faces=2000)\n",
    "frommatrix2stl(my_virtual_mesostructure, 'mesostructure.stl', target_faces=2000)\n"
   ]
  },
  {
   "cell_type": "code",
   "execution_count": null,
   "metadata": {},
   "outputs": [],
   "source": []
  }
 ],
 "metadata": {
  "kernelspec": {
   "display_name": "Python 3",
   "language": "python",
   "name": "python3"
  },
  "language_info": {
   "codemirror_mode": {
    "name": "ipython",
    "version": 3
   },
   "file_extension": ".py",
   "mimetype": "text/x-python",
   "name": "python",
   "nbconvert_exporter": "python",
   "pygments_lexer": "ipython3",
   "version": "3.11.9"
  }
 },
 "nbformat": 4,
 "nbformat_minor": 2
}
